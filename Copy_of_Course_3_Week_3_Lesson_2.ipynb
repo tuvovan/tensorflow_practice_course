{
  "nbformat": 4,
  "nbformat_minor": 0,
  "metadata": {
    "accelerator": "GPU",
    "colab": {
      "name": "Copy of Course 3 - Week 3 - Lesson 2.ipynb",
      "provenance": [],
      "collapsed_sections": [],
      "toc_visible": true,
      "include_colab_link": true
    },
    "kernelspec": {
      "display_name": "Python 3",
      "language": "python",
      "name": "python3"
    },
    "language_info": {
      "codemirror_mode": {
        "name": "ipython",
        "version": 3
      },
      "file_extension": ".py",
      "mimetype": "text/x-python",
      "name": "python",
      "nbconvert_exporter": "python",
      "pygments_lexer": "ipython3",
      "version": "3.7.6"
    }
  },
  "cells": [
    {
      "cell_type": "markdown",
      "metadata": {
        "id": "view-in-github",
        "colab_type": "text"
      },
      "source": [
        "<a href=\"https://colab.research.google.com/github/tuvovan/tensorflow_practice_course/blob/master/Copy_of_Course_3_Week_3_Lesson_2.ipynb\" target=\"_parent\"><img src=\"https://colab.research.google.com/assets/colab-badge.svg\" alt=\"Open In Colab\"/></a>"
      ]
    },
    {
      "cell_type": "code",
      "metadata": {
        "colab_type": "code",
        "id": "zX4Kg8DUTKWO",
        "colab": {}
      },
      "source": [
        "#@title Licensed under the Apache License, Version 2.0 (the \"License\");\n",
        "# you may not use this file except in compliance with the License.\n",
        "# You may obtain a copy of the License at\n",
        "#\n",
        "# https://www.apache.org/licenses/LICENSE-2.0\n",
        "#\n",
        "# Unless required by applicable law or agreed to in writing, software\n",
        "# distributed under the License is distributed on an \"AS IS\" BASIS,\n",
        "# WITHOUT WARRANTIES OR CONDITIONS OF ANY KIND, either express or implied.\n",
        "# See the License for the specific language governing permissions and\n",
        "# limitations under the License."
      ],
      "execution_count": null,
      "outputs": []
    },
    {
      "cell_type": "markdown",
      "metadata": {
        "id": "AlqXa_8elyAE",
        "colab_type": "text"
      },
      "source": [
        "<a href=\"https://colab.research.google.com/github/lmoroney/dlaicourse/blob/master/TensorFlow%20In%20Practice/Course%203%20-%20NLP/Course%203%20-%20Week%203%20-%20Lesson%202.ipynb\" target=\"_parent\"><img src=\"https://colab.research.google.com/assets/colab-badge.svg\" alt=\"Open In Colab\"/></a>"
      ]
    },
    {
      "cell_type": "code",
      "metadata": {
        "colab_type": "code",
        "id": "jGwXGIXvFhXW",
        "colab": {
          "base_uri": "https://localhost:8080/",
          "height": 1000
        },
        "outputId": "7ee9e9fd-7f56-495a-928a-b3e70c7d843d"
      },
      "source": [
        "import numpy as np\n",
        "\n",
        "import json\n",
        "import tensorflow as tf\n",
        "\n",
        "from tensorflow.keras.preprocessing.text import Tokenizer\n",
        "from tensorflow.keras.preprocessing.sequence import pad_sequences\n",
        "\n",
        "!wget --no-check-certificate \\\n",
        "    https://storage.googleapis.com/laurencemoroney-blog.appspot.com/sarcasm.json \\\n",
        "    -O /tmp/sarcasm.json\n",
        "\n",
        "vocab_size = 1000\n",
        "embedding_dim = 16\n",
        "max_length = 120\n",
        "trunc_type='post'\n",
        "padding_type='post'\n",
        "oov_tok = \"<OOV>\"\n",
        "training_size = 20000\n",
        "\n",
        "\n",
        "with open(\"/tmp/sarcasm.json\", 'r') as f:\n",
        "    datastore = json.load(f)\n",
        "\n",
        "\n",
        "sentences = []\n",
        "labels = []\n",
        "urls = []\n",
        "for item in datastore:\n",
        "    sentences.append(item['headline'])\n",
        "    labels.append(item['is_sarcastic'])\n",
        "\n",
        "training_sentences = sentences[0:training_size]\n",
        "testing_sentences = sentences[training_size:]\n",
        "training_labels = labels[0:training_size]\n",
        "testing_labels = labels[training_size:]\n",
        "\n",
        "tokenizer = Tokenizer(num_words=vocab_size, oov_token=oov_tok)\n",
        "tokenizer.fit_on_texts(training_sentences)\n",
        "\n",
        "word_index = tokenizer.word_index\n",
        "\n",
        "training_sequences = tokenizer.texts_to_sequences(training_sentences)\n",
        "training_padded = pad_sequences(training_sequences, maxlen=max_length, padding=padding_type, truncating=trunc_type)\n",
        "\n",
        "testing_sequences = tokenizer.texts_to_sequences(testing_sentences)\n",
        "testing_padded = pad_sequences(testing_sequences, maxlen=max_length, padding=padding_type, truncating=trunc_type)\n",
        "\n",
        "model = tf.keras.Sequential([\n",
        "    tf.keras.layers.Embedding(vocab_size, embedding_dim, input_length=max_length),\n",
        "    tf.keras.layers.Bidirectional(tf.keras.layers.LSTM(32)),\n",
        "    tf.keras.layers.Dense(24, activation='relu'),\n",
        "    tf.keras.layers.Dense(1, activation='sigmoid')\n",
        "])\n",
        "model.compile(loss='binary_crossentropy',optimizer='adam',metrics=['accuracy'])\n",
        "model.summary()\n",
        "\n",
        "num_epochs = 50\n",
        "training_padded = np.array(training_padded)\n",
        "training_labels = np.array(training_labels)\n",
        "testing_padded = np.array(testing_padded)\n",
        "testing_labels = np.array(testing_labels)\n",
        "history = model.fit(training_padded, training_labels, epochs=num_epochs, validation_data=(testing_padded, testing_labels), verbose=1)\n"
      ],
      "execution_count": 1,
      "outputs": [
        {
          "output_type": "stream",
          "text": [
            "--2020-06-19 08:00:53--  https://storage.googleapis.com/laurencemoroney-blog.appspot.com/sarcasm.json\n",
            "Resolving storage.googleapis.com (storage.googleapis.com)... 64.233.188.128, 2404:6800:4008:c07::80\n",
            "Connecting to storage.googleapis.com (storage.googleapis.com)|64.233.188.128|:443... connected.\n",
            "HTTP request sent, awaiting response... 200 OK\n",
            "Length: 5643545 (5.4M) [application/json]\n",
            "Saving to: ‘/tmp/sarcasm.json’\n",
            "\n",
            "\r/tmp/sarcasm.json     0%[                    ]       0  --.-KB/s               \r/tmp/sarcasm.json   100%[===================>]   5.38M  --.-KB/s    in 0.06s   \n",
            "\n",
            "2020-06-19 08:00:53 (94.7 MB/s) - ‘/tmp/sarcasm.json’ saved [5643545/5643545]\n",
            "\n",
            "Model: \"sequential\"\n",
            "_________________________________________________________________\n",
            "Layer (type)                 Output Shape              Param #   \n",
            "=================================================================\n",
            "embedding (Embedding)        (None, 120, 16)           16000     \n",
            "_________________________________________________________________\n",
            "bidirectional (Bidirectional (None, 64)                12544     \n",
            "_________________________________________________________________\n",
            "dense (Dense)                (None, 24)                1560      \n",
            "_________________________________________________________________\n",
            "dense_1 (Dense)              (None, 1)                 25        \n",
            "=================================================================\n",
            "Total params: 30,129\n",
            "Trainable params: 30,129\n",
            "Non-trainable params: 0\n",
            "_________________________________________________________________\n",
            "Epoch 1/50\n",
            "625/625 [==============================] - 37s 59ms/step - loss: 0.4509 - accuracy: 0.7695 - val_loss: 0.3950 - val_accuracy: 0.8119\n",
            "Epoch 2/50\n",
            "625/625 [==============================] - 36s 57ms/step - loss: 0.3466 - accuracy: 0.8424 - val_loss: 0.3691 - val_accuracy: 0.8313\n",
            "Epoch 3/50\n",
            "625/625 [==============================] - 36s 58ms/step - loss: 0.3204 - accuracy: 0.8557 - val_loss: 0.3703 - val_accuracy: 0.8372\n",
            "Epoch 4/50\n",
            "625/625 [==============================] - 36s 58ms/step - loss: 0.3049 - accuracy: 0.8648 - val_loss: 0.3712 - val_accuracy: 0.8337\n",
            "Epoch 5/50\n",
            "625/625 [==============================] - 36s 58ms/step - loss: 0.2964 - accuracy: 0.8700 - val_loss: 0.3818 - val_accuracy: 0.8241\n",
            "Epoch 6/50\n",
            "625/625 [==============================] - 36s 57ms/step - loss: 0.2870 - accuracy: 0.8729 - val_loss: 0.3888 - val_accuracy: 0.8341\n",
            "Epoch 7/50\n",
            "625/625 [==============================] - 36s 58ms/step - loss: 0.2783 - accuracy: 0.8781 - val_loss: 0.3807 - val_accuracy: 0.8293\n",
            "Epoch 8/50\n",
            "625/625 [==============================] - 36s 57ms/step - loss: 0.2707 - accuracy: 0.8824 - val_loss: 0.3956 - val_accuracy: 0.8258\n",
            "Epoch 9/50\n",
            "625/625 [==============================] - 36s 57ms/step - loss: 0.2630 - accuracy: 0.8857 - val_loss: 0.3980 - val_accuracy: 0.8296\n",
            "Epoch 10/50\n",
            "625/625 [==============================] - 36s 58ms/step - loss: 0.2545 - accuracy: 0.8905 - val_loss: 0.4026 - val_accuracy: 0.8289\n",
            "Epoch 11/50\n",
            "625/625 [==============================] - 36s 58ms/step - loss: 0.2458 - accuracy: 0.8941 - val_loss: 0.3917 - val_accuracy: 0.8274\n",
            "Epoch 12/50\n",
            "625/625 [==============================] - 36s 58ms/step - loss: 0.2367 - accuracy: 0.8986 - val_loss: 0.4456 - val_accuracy: 0.8237\n",
            "Epoch 13/50\n",
            "625/625 [==============================] - 36s 58ms/step - loss: 0.2286 - accuracy: 0.9018 - val_loss: 0.4430 - val_accuracy: 0.8277\n",
            "Epoch 14/50\n",
            "625/625 [==============================] - 36s 58ms/step - loss: 0.2193 - accuracy: 0.9033 - val_loss: 0.4533 - val_accuracy: 0.8237\n",
            "Epoch 15/50\n",
            "625/625 [==============================] - 36s 58ms/step - loss: 0.2135 - accuracy: 0.9086 - val_loss: 0.4609 - val_accuracy: 0.8207\n",
            "Epoch 16/50\n",
            "625/625 [==============================] - 36s 58ms/step - loss: 0.2053 - accuracy: 0.9124 - val_loss: 0.4866 - val_accuracy: 0.8193\n",
            "Epoch 17/50\n",
            "625/625 [==============================] - 36s 58ms/step - loss: 0.1977 - accuracy: 0.9179 - val_loss: 0.5197 - val_accuracy: 0.8155\n",
            "Epoch 18/50\n",
            "625/625 [==============================] - 36s 58ms/step - loss: 0.1892 - accuracy: 0.9209 - val_loss: 0.5520 - val_accuracy: 0.8180\n",
            "Epoch 19/50\n",
            "625/625 [==============================] - 36s 58ms/step - loss: 0.1859 - accuracy: 0.9233 - val_loss: 0.5495 - val_accuracy: 0.8183\n",
            "Epoch 20/50\n",
            "625/625 [==============================] - 36s 58ms/step - loss: 0.1783 - accuracy: 0.9276 - val_loss: 0.5480 - val_accuracy: 0.8146\n",
            "Epoch 21/50\n",
            "625/625 [==============================] - 36s 58ms/step - loss: 0.1713 - accuracy: 0.9283 - val_loss: 0.5999 - val_accuracy: 0.8192\n",
            "Epoch 22/50\n",
            "625/625 [==============================] - 36s 58ms/step - loss: 0.1648 - accuracy: 0.9316 - val_loss: 0.6111 - val_accuracy: 0.8150\n",
            "Epoch 23/50\n",
            "625/625 [==============================] - 36s 58ms/step - loss: 0.1592 - accuracy: 0.9335 - val_loss: 0.6230 - val_accuracy: 0.8216\n",
            "Epoch 24/50\n",
            "625/625 [==============================] - 36s 58ms/step - loss: 0.1513 - accuracy: 0.9363 - val_loss: 0.7019 - val_accuracy: 0.8119\n",
            "Epoch 25/50\n",
            "625/625 [==============================] - 36s 58ms/step - loss: 0.1432 - accuracy: 0.9411 - val_loss: 0.7350 - val_accuracy: 0.8137\n",
            "Epoch 26/50\n",
            "625/625 [==============================] - 36s 58ms/step - loss: 0.1386 - accuracy: 0.9428 - val_loss: 0.7580 - val_accuracy: 0.8073\n",
            "Epoch 27/50\n",
            "625/625 [==============================] - 36s 58ms/step - loss: 0.1343 - accuracy: 0.9453 - val_loss: 0.7483 - val_accuracy: 0.8103\n",
            "Epoch 28/50\n",
            "625/625 [==============================] - 36s 58ms/step - loss: 0.1296 - accuracy: 0.9469 - val_loss: 0.8915 - val_accuracy: 0.8064\n",
            "Epoch 29/50\n",
            "625/625 [==============================] - 37s 58ms/step - loss: 0.1216 - accuracy: 0.9484 - val_loss: 0.8871 - val_accuracy: 0.8113\n",
            "Epoch 30/50\n",
            "625/625 [==============================] - 36s 58ms/step - loss: 0.1154 - accuracy: 0.9525 - val_loss: 0.8852 - val_accuracy: 0.8070\n",
            "Epoch 31/50\n",
            "625/625 [==============================] - 36s 58ms/step - loss: 0.1128 - accuracy: 0.9538 - val_loss: 0.9755 - val_accuracy: 0.8068\n",
            "Epoch 32/50\n",
            "625/625 [==============================] - 36s 58ms/step - loss: 0.1039 - accuracy: 0.9568 - val_loss: 1.1334 - val_accuracy: 0.8088\n",
            "Epoch 33/50\n",
            "625/625 [==============================] - 36s 58ms/step - loss: 0.1028 - accuracy: 0.9575 - val_loss: 1.0206 - val_accuracy: 0.8109\n",
            "Epoch 34/50\n",
            "625/625 [==============================] - 36s 58ms/step - loss: 0.0995 - accuracy: 0.9604 - val_loss: 1.1165 - val_accuracy: 0.8068\n",
            "Epoch 35/50\n",
            "625/625 [==============================] - 36s 58ms/step - loss: 0.0935 - accuracy: 0.9610 - val_loss: 1.1563 - val_accuracy: 0.8016\n",
            "Epoch 36/50\n",
            "625/625 [==============================] - 36s 58ms/step - loss: 0.0882 - accuracy: 0.9632 - val_loss: 1.2080 - val_accuracy: 0.7998\n",
            "Epoch 37/50\n",
            "625/625 [==============================] - 36s 58ms/step - loss: 0.0863 - accuracy: 0.9653 - val_loss: 1.2648 - val_accuracy: 0.8089\n",
            "Epoch 38/50\n",
            "625/625 [==============================] - 36s 58ms/step - loss: 0.0782 - accuracy: 0.9675 - val_loss: 1.4418 - val_accuracy: 0.8059\n",
            "Epoch 39/50\n",
            "625/625 [==============================] - 36s 58ms/step - loss: 0.0772 - accuracy: 0.9675 - val_loss: 1.2668 - val_accuracy: 0.8018\n",
            "Epoch 40/50\n",
            "625/625 [==============================] - 36s 58ms/step - loss: 0.0801 - accuracy: 0.9660 - val_loss: 1.4429 - val_accuracy: 0.8022\n",
            "Epoch 41/50\n",
            "625/625 [==============================] - 36s 58ms/step - loss: 0.0730 - accuracy: 0.9686 - val_loss: 1.4655 - val_accuracy: 0.7962\n",
            "Epoch 42/50\n",
            "625/625 [==============================] - 36s 58ms/step - loss: 0.0715 - accuracy: 0.9702 - val_loss: 1.6303 - val_accuracy: 0.8001\n",
            "Epoch 43/50\n",
            "625/625 [==============================] - 36s 58ms/step - loss: 0.0689 - accuracy: 0.9712 - val_loss: 1.5121 - val_accuracy: 0.8013\n",
            "Epoch 44/50\n",
            "625/625 [==============================] - 36s 58ms/step - loss: 0.0683 - accuracy: 0.9714 - val_loss: 1.6620 - val_accuracy: 0.8012\n",
            "Epoch 45/50\n",
            "625/625 [==============================] - 37s 58ms/step - loss: 0.0591 - accuracy: 0.9744 - val_loss: 1.6875 - val_accuracy: 0.7934\n",
            "Epoch 46/50\n",
            "625/625 [==============================] - 37s 58ms/step - loss: 0.0646 - accuracy: 0.9736 - val_loss: 1.6461 - val_accuracy: 0.8031\n",
            "Epoch 47/50\n",
            "625/625 [==============================] - 36s 58ms/step - loss: 0.0599 - accuracy: 0.9746 - val_loss: 1.7498 - val_accuracy: 0.8040\n",
            "Epoch 48/50\n",
            "625/625 [==============================] - 36s 58ms/step - loss: 0.0554 - accuracy: 0.9759 - val_loss: 1.7432 - val_accuracy: 0.7928\n",
            "Epoch 49/50\n",
            "625/625 [==============================] - 37s 58ms/step - loss: 0.0591 - accuracy: 0.9760 - val_loss: 1.9109 - val_accuracy: 0.7951\n",
            "Epoch 50/50\n",
            "625/625 [==============================] - 36s 58ms/step - loss: 0.0610 - accuracy: 0.9740 - val_loss: 1.7892 - val_accuracy: 0.7928\n"
          ],
          "name": "stdout"
        }
      ]
    },
    {
      "cell_type": "code",
      "metadata": {
        "colab_type": "code",
        "id": "g9DC6dmLF8DC",
        "colab": {
          "base_uri": "https://localhost:8080/",
          "height": 545
        },
        "outputId": "36919817-dad0-4c64-c329-14a23400989c"
      },
      "source": [
        "import matplotlib.pyplot as plt\n",
        "\n",
        "\n",
        "def plot_graphs(history, string):\n",
        "  plt.plot(history.history[string])\n",
        "  plt.plot(history.history['val_'+string])\n",
        "  plt.xlabel(\"Epochs\")\n",
        "  plt.ylabel(string)\n",
        "  plt.legend([string, 'val_'+string])\n",
        "  plt.show()\n",
        "\n",
        "plot_graphs(history, 'accuracy')\n",
        "plot_graphs(history, 'loss')"
      ],
      "execution_count": 2,
      "outputs": [
        {
          "output_type": "display_data",
          "data": {
            "image/png": "[encoded data removed]",
            "text/plain": [
              "<Figure size 432x288 with 1 Axes>"
            ]
          },
          "metadata": {
            "tags": [],
            "needs_background": "light"
          }
        },
        {
          "output_type": "display_data",
          "data": {
            "image/png": "[encoded data removed]",
            "text/plain": [
              "<Figure size 432x288 with 1 Axes>"
            ]
          },
          "metadata": {
            "tags": [],
            "needs_background": "light"
          }
        }
      ]
    },
    {
      "cell_type": "code",
      "metadata": {
        "colab_type": "code",
        "id": "7ZEZIUppGhdi",
        "colab": {}
      },
      "source": [
        "model.save(\"test.h5\")"
      ],
      "execution_count": 3,
      "outputs": []
    }
  ]
}